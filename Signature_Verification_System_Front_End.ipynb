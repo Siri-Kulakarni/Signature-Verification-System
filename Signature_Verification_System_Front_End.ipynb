{
  "cells": [
    {
      "cell_type": "code",
      "execution_count": 1,
      "metadata": {
        "colab": {
          "base_uri": "https://localhost:8080/"
        },
        "id": "PjisTluSnIBf",
        "outputId": "ada81f73-d3e2-457f-fe0e-a1802482a1d5"
      },
      "outputs": [
        {
          "name": "stdout",
          "output_type": "stream",
          "text": [
            "Note: you may need to restart the kernel to use updated packages.\n"
          ]
        }
      ],
      "source": [
        "%pip install -q streamlit"
      ]
    },
    {
      "cell_type": "code",
      "execution_count": 2,
      "metadata": {
        "colab": {
          "base_uri": "https://localhost:8080/"
        },
        "id": "KvzhLYyQnWyS",
        "outputId": "21e0642b-cacd-40a7-a446-276bd4b2506d"
      },
      "outputs": [
        {
          "name": "stdout",
          "output_type": "stream",
          "text": [
            "Note: you may need to restart the kernel to use updated packages.\n"
          ]
        }
      ],
      "source": [
        "%pip install -q streamlit_extras"
      ]
    },
    {
      "cell_type": "code",
      "execution_count": 18,
      "metadata": {
        "colab": {
          "base_uri": "https://localhost:8080/"
        },
        "id": "mcRgZXJ1DRjl",
        "outputId": "0277b633-5696-4362-a04d-e7be88aaa851"
      },
      "outputs": [
        {
          "name": "stdout",
          "output_type": "stream",
          "text": [
            "Overwriting test.py\n"
          ]
        }
      ],
      "source": [
        "%%writefile test.py\n",
        "import streamlit as st\n",
        "import os\n",
        "from PIL import Image\n",
        "from io import BytesIO\n",
        "import tensorflow as tf\n",
        "import numpy as np\n",
        "import cv2 as cv\n",
        "\n",
        "if 'is_valid_employee' not in st.session_state:\n",
        "    st.session_state.is_valid_employee = \"\"\n",
        "\n",
        "if 'employee_name' not in st.session_state:\n",
        "    st.session_state.employee_name = \"\"\n",
        "\n",
        "model = tf.keras.models.load_model('sign_data/my_model.h5')\n",
        "\n",
        "# replace this dictionary with your employee database.\n",
        "img_database = {\n",
        "    'Alice' : \"sign_data/train/001/001_01.PNG\",\n",
        "    'Bob' : \"sign_data/train/002/002_01.PNG\",\n",
        "    'Carol' : \"sign_data/train/003/003_01.PNG\",\n",
        "    'Denver' : \"sign_data/train/004/004_01.PNG\",\n",
        "    'Ellie' : \"sign_data/train/006/006_01.PNG\",\n",
        "    'Ferb' : \"sign_data/train/009/009_01.PNG\",\n",
        "    'Ginny' : \"sign_data/train/012/012_01.PNG\",\n",
        "    'Henry' : \"sign_data/train/013/013_01.PNG\",\n",
        "    'Ian' : \"sign_data/train/014/014_01.PNG\",\n",
        "    'Jacob' : \"sign_data/train/015/015_01.PNG\"\n",
        "}\n",
        "\n",
        "def sidebar():\n",
        "    with st.sidebar:\n",
        "        st.markdown(\"<h1 style='font-style: italic; color: #519691;'>Hey <span style = 'color: #6B564C;'> There!</span></h1>\", unsafe_allow_html=True)\n",
        "        st.write(\"\")\n",
        "\n",
        "        st.subheader(\"ABOUT:\")\n",
        "        st.markdown(\"\"\"Welcome to AuthenSign🔐, where cutting-edge technology meets seamless signature verification! Simplify your authentication \n",
        "                    process with our advanced system, ensuring reliability and setting a new standard in verification excellence.\"\"\")\n",
        "        st.write(\"\")\n",
        "        st.write(\"\")\n",
        "\n",
        "\n",
        "def verify_employee_id(employee_id):\n",
        "\n",
        "    # replace this dictionary with your employee database.\n",
        "    employee_database = {\n",
        "        '001': 'Alice',\n",
        "        '002': 'Bob',\n",
        "        '003': 'Carol',\n",
        "        '004': 'Denver',\n",
        "        '005': 'Ellie',\n",
        "        '006': 'Ferb',\n",
        "        '007': 'Ginny',\n",
        "        '008': 'Henry',\n",
        "        '009': 'Ian',\n",
        "        '010': 'Jacob'\n",
        "    }\n",
        "\n",
        "    if employee_id in employee_database:\n",
        "        return True, employee_database[employee_id]\n",
        "    else:\n",
        "        return False, None\n",
        "\n",
        "\n",
        "def preprocess(img):\n",
        "    img = cv.resize(img, (128, 128, ))\n",
        "    img = cv.Canny(img, 20, 200)\n",
        "    img = img / 255.\n",
        "    img = np.expand_dims(img, axis = -1)\n",
        "    return img\n",
        "    \n",
        "\n",
        "def verify_signature(employee, signature_image):\n",
        "    pil_image = Image.open(BytesIO(signature_image.read()))\n",
        "    uploaded_img = cv.cvtColor(np.array(pil_image), cv.COLOR_RGB2BGR)\n",
        "    database_img = cv.imread(img_database[employee])\n",
        "    img1 = preprocess(uploaded_img)\n",
        "    img1 = np.expand_dims(img1, axis = 0)\n",
        "    img2 = preprocess(database_img)\n",
        "    img2 = np.expand_dims(img2, axis = 0)\n",
        "\n",
        "    y_prob = model.predict([img1, img2])\n",
        "    y_pred = (y_prob > 0.2).astype(int)\n",
        "    print(y_prob)\n",
        "    if y_pred == 0:\n",
        "        st.success(\"Signature verification successful!\")\n",
        "    else:\n",
        "        st.error(\"Signature verification failed. Try again!\")\n",
        "\n",
        "    \n",
        "def main():\n",
        "    st.set_page_config(page_title = \"AuthenSign・Streamlit\", page_icon = \"🔐\")\n",
        "    sidebar()\n",
        "    st.markdown(\n",
        "        \"\"\"\n",
        "        <style>\n",
        "        .stApp {\n",
        "            align-items: center;\n",
        "        }\n",
        "        </style>\n",
        "        \"\"\",\n",
        "        unsafe_allow_html=True\n",
        "    )\n",
        "    \n",
        "    st.markdown(\"<h1 style='margin-bottom:-3%;'> <span style='color:#EB6A0E;'>Authen</span><span style='color:#96613B;'> Sign</span></h1>\", unsafe_allow_html=True)\n",
        "    st.markdown(\"<p style = 'padding-bottom: 2%'>🔐 Cutting-edge signature verification made seamless</p>\", unsafe_allow_html = True)\n",
        "    st.write(\"Please enter your Employee ID and upload your signature image for verification.\")\n",
        "\n",
        "    container = st.container(border = True)\n",
        "    container.markdown(\"<h2 style='text-align: center; color: white;'>LOGIN</h2>\", unsafe_allow_html=True)\n",
        "\n",
        "    employee_id = container.text_input(\"Enter Employee ID:\")\n",
        "\n",
        "    verify = st.button(\"Verify\", key = \"button1\")\n",
        "\n",
        "    if \"verify_state\" not in st.session_state:\n",
        "        st.session_state.verify_state = False\n",
        "\n",
        "    if verify or st.session_state.verify_state:\n",
        "        st.session_state.verify_state = True\n",
        "\n",
        "        is_valid_employee, employee_name = verify_employee_id(employee_id)\n",
        "\n",
        "        if is_valid_employee:\n",
        "            st.success(f\"Employee ID {employee_id} is valid. Welcome, {employee_name}!\")\n",
        "\n",
        "            uploaded_file = st.file_uploader(\"Upload signature image\", type = ['jpeg', 'png', 'jpg', 'webp'], \n",
        "                                            help = \"SVG Documents aren't supported yet!\")\n",
        "\n",
        "            if uploaded_file is not None:\n",
        "                st.write(\"Image uploaded successfully!\")\n",
        "                st.empty()\n",
        "                st.markdown(\"---\")\n",
        "\n",
        "                if st.button(\"Verify Signature\"):\n",
        "                    with st.spinner(\"Verifying Signature... This may take a while ⏳\"):\n",
        "                        verify_signature(employee_name, uploaded_file)\n",
        "        else:\n",
        "            st.error(f\"Invalid Employee ID: {employee_id}. Please try again.\")\n",
        "\n",
        "\n",
        "if __name__ == \"__main__\":\n",
        "    main()"
      ]
    },
    {
      "cell_type": "code",
      "execution_count": 19,
      "metadata": {
        "colab": {
          "base_uri": "https://localhost:8080/"
        },
        "id": "E8fkEZuGm_2K",
        "outputId": "86676628-c619-4e98-fefc-76899ebd122e"
      },
      "outputs": [
        {
          "name": "stdout",
          "output_type": "stream",
          "text": [
            "zsh:1: command not found: npm\n"
          ]
        }
      ],
      "source": [
        "!npm install localtunnel"
      ]
    },
    {
      "cell_type": "code",
      "execution_count": 20,
      "metadata": {
        "id": "8CiKBz9Hu6Vj"
      },
      "outputs": [
        {
          "name": "stdout",
          "output_type": "stream",
          "text": [
            "\u001b[0m\n",
            "\u001b[34m\u001b[1m  You can now view your Streamlit app in your browser.\u001b[0m\n",
            "\u001b[0m\n",
            "\u001b[34m  Local URL: \u001b[0m\u001b[1mhttp://localhost:8501\u001b[0m\n",
            "\u001b[34m  Network URL: \u001b[0m\u001b[1mhttp://192.168.56.223:8501\u001b[0m\n",
            "\u001b[0m\n",
            "\u001b[34m\u001b[1m  For better performance, install the Watchdog module:\u001b[0m\n",
            "\n",
            "  $ xcode-select --install\n",
            "  $ pip install watchdog\n",
            "            \u001b[0m\n",
            "^C\n",
            "\u001b[34m  Stopping...\u001b[0m\n"
          ]
        }
      ],
      "source": [
        "!streamlit run test.py"
      ]
    }
  ],
  "metadata": {
    "colab": {
      "provenance": []
    },
    "kernelspec": {
      "display_name": "Python 3",
      "name": "python3"
    },
    "language_info": {
      "codemirror_mode": {
        "name": "ipython",
        "version": 3
      },
      "file_extension": ".py",
      "mimetype": "text/x-python",
      "name": "python",
      "nbconvert_exporter": "python",
      "pygments_lexer": "ipython3",
      "version": "3.10.11"
    }
  },
  "nbformat": 4,
  "nbformat_minor": 0
}
